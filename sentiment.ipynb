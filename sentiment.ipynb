{
  "cells": [
    {
      "cell_type": "markdown",
      "metadata": {
        "id": "view-in-github",
        "colab_type": "text"
      },
      "source": [
        "<a href=\"https://colab.research.google.com/github/rezu98/colab/blob/main/sentiment.ipynb\" target=\"_parent\"><img src=\"https://colab.research.google.com/assets/colab-badge.svg\" alt=\"Open In Colab\"/></a>"
      ]
    },
    {
      "cell_type": "code",
      "source": [
        "!pip install nltk\n",
        "!pip install vaderSentiment\n",
        "import matplotlib.pyplot as plt\n",
        "import numpy as np\n",
        "import nltk\n",
        "nltk.download('vader_lexicon')\n",
        "from vaderSentiment.vaderSentiment import SentimentIntensityAnalyzer\n",
        "from openpyxl import Workbook, load_workbook\n",
        "import re"
      ],
      "metadata": {
        "id": "YFNlv189OpWA"
      },
      "execution_count": null,
      "outputs": []
    },
    {
      "cell_type": "code",
      "source": [
        "!pip install textstat\n",
        "from textstat import flesch_kincaid_grade, gunning_fog"
      ],
      "metadata": {
        "id": "IX6CrBx5nZn9"
      },
      "execution_count": null,
      "outputs": []
    },
    {
      "cell_type": "code",
      "source": [
        "file_path = 'results.xlsx'"
      ],
      "metadata": {
        "id": "b9RjbLiokLs4"
      },
      "execution_count": null,
      "outputs": []
    },
    {
      "cell_type": "code",
      "source": [
        "### Sentiment Intensity Analyzer\n",
        "# Example text\n",
        "sample_text = \"The Monetary Policy Board of the Bank of Korea decided today to leave the Base Rate unchanged at 3.50% for the intermeeting period. Although inflation is projected to continue its underlying trend of a slowdown, uncertainties regarding the future path of inflation and growth have risen significantly due to a prolongation of restrictive monetary policy stances in major countries and heightened geopolitical risks. In addition, it is forecast that the pace of inflation slowdown will moderate more than previously expected, and it is necessary to monitor household debt growth. The Board, therefore, sees that it is appropriate to maintain its current restrictive policy stance. Regarding the need to raise the Base Rate further, the Board will make a judgement while assessing the changes in domestic and external policy conditions. The currently available information suggests that uncertainties regarding economic and inflationary trends have increased across the global economy, driven by a prolongation of restrictive monetary policy stances in major countries and by the Israel-Hamas conflict. Global economic growth is projected to continue slowing. Inflation in major countries still remains high, though falling gradually, and upside risks have increased due to the rise in global oil prices. In global financial markets, volatility of major price variables has increased with government bond yields rising significantly and with the U.S. dollar strengthening considerably. Looking ahead, the Board sees global economic growth and global financial markets as likely to be affected by the movements of global oil prices and the global inflation slowdown, by monetary policy changes in major countries and their effects, and by developments in the Israel-Hamas conflict. Domestic economic growth has continued to improve at a modest pace owing to the easing of sluggishness in exports, although the recovery in private consumption has been somewhat slow. Labor market conditions have been generally favorable, as both a low unemployment rate and a robust increase in the number of persons employed have continued. Going forward, domestic economic growth is expected to improve gradually with the easing of the sluggishness in exports. GDP growth for the year is expected to be generally consistent with the August forecast of 1.4%. However, uncertainties surrounding the economic outlook are judged to be elevated, affected by heightened geopolitical risks and by the prolongation of restrictive monetary policy stances in major countries. Consumer price inflation has risen from August to 3.7% in September, due to the increase in the price of energy and of agricultural products. However, both core inflation (excluding changes in food and energy prices from the CPI) and short-term inflation expectations among the general public have stayed at 3.3% in September, the same as in August. Looking ahead, it is forecast that consumer price inflation will fall to the lower-3% range at the end of this year and will continue to gradually moderate in 2024. However, upside risks to inflation have increased due to the effects of higher global oil prices and exchange rates, and due to the Israel-Hamas conflict. Accordingly, it is judged that the timing of consumer price inflation converging on the target level is more likely to be delayed than previously expected. Meanwhile, core inflation is also projected to maintain its underlying slowing trend, owing to the weakening of demand-side pressures. However, the pace of the slowdown is likely to be more modest than previously forecast due to the continuing spillover effects of accumulated cost pressure. In financial and foreign exchange markets, volatility has increased as the U.S. Federal Reserve has signaled a prolongation of a high policy rate and as geopolitical risks have expanded. Long-term Korean Treasury bond yields and the Korean won to U.S. dollar exchange rate have risen significantly and stock prices have fallen. Meanwhile, the risks to some non-bank financial sectors have eased. Housing prices have continued their upward trend, especially in Seoul and its surrounding areas. Household loans have continued to increase, mainly driven by housing-related loans. The Board will continue to conduct monetary policy in order to stabilize consumer price inflation at the target level over the medium-term horizon as it monitors economic growth, while paying attention to financial stability. While domestic economic growth is forecast to gradually improve, uncertainties surrounding the policy decision have also risen. The Board, therefore, will maintain a restrictive policy stance for a considerable time with an emphasis on ensuring price stability, while making a judgement regarding the need to raise the Base Rate further. In this process, the Board will thoroughly assess the inflation slowdown, financial stability risks, economic downside risks, monetary policy changes in major countries, household debt growth, and developments in geopolitical risks.\"\n",
        "# Initialize the VADER sentiment analyzer\n",
        "analyzer = SentimentIntensityAnalyzer()\n",
        "# Perform sentiment analysis\n",
        "scores = analyzer.polarity_scores(sample_text)\n",
        "print(scores)"
      ],
      "metadata": {
        "id": "XEjqfmw1Doi8"
      },
      "execution_count": null,
      "outputs": []
    },
    {
      "cell_type": "code",
      "source": [
        "### Sentiment Analyze\n",
        "### by loughran and mcdonald(2019)\n",
        "\n",
        "import datetime as dt\n",
        "import sys\n",
        "import nltk\n",
        "nltk.download('punkt')\n",
        "\n",
        "## loading master dictionary\n",
        "\n",
        "def load_masterdictionary(file_path, print_flag=False, f_log=None, get_other=False):\n",
        "    start_local = dt.datetime.now()\n",
        "    # Setup dictionaries\n",
        "    _master_dictionary = {}\n",
        "\n",
        "    # Loop through words and load dictionaries\n",
        "    with open(file_path, encoding=\"utf-8\") as f:\n",
        "        _total_documents = 0\n",
        "        _md_header = f.readline()  # Consume header line\n",
        "        print()\n",
        "        for line in f:\n",
        "            cols = line.rstrip('\\n').split(',')\n",
        "            word = cols[0].upper()  # Convert word to uppercase\n",
        "            negative_value = int(cols[7])\n",
        "            positive_value = int(cols[8])\n",
        "            uncertainty_value = int(cols[9])\n",
        "            _master_dictionary[word] = {'negative': negative_value, 'positive': positive_value, 'uncertainty': uncertainty_value}\n",
        "\n",
        "    if print_flag:\n",
        "        print('\\r', end='')  # clear line\n",
        "        print(f'\\nMaster Dictionary loaded from file:\\n  {file_path}\\n')\n",
        "        print(f'  master_dictionary has {len(_master_dictionary):,} words.\\n')\n",
        "\n",
        "    if get_other:\n",
        "        return _master_dictionary, _md_header, _total_documents\n",
        "    else:\n",
        "        return _master_dictionary"
      ],
      "metadata": {
        "id": "1WI8u6caYHKJ"
      },
      "execution_count": null,
      "outputs": []
    },
    {
      "cell_type": "code",
      "source": [
        "## evaluate sentiment indices\n",
        "\n",
        "def evaluate_sentiment_indices(text, master_dictionary):\n",
        "    words = nltk.word_tokenize(text)  # Tokenize the text into words\n",
        "    words_uppercase = [word.upper() for word in words]  # Convert all words to uppercase\n",
        "    total_words_count, negative_score, positive_score, uncertain_words_count = 0, 0, 0, 0\n",
        "    negative_words_count, positive_words_count = 0, 0\n",
        "    for word in words_uppercase:\n",
        "        if word in master_dictionary:\n",
        "            total_words_count += 1  # Increment the total word count\n",
        "            if master_dictionary[word]['uncertainty'] != 0:\n",
        "                uncertain_words_count += 1\n",
        "            if master_dictionary[word]['negative'] > 0:\n",
        "                negative_words_count += 1\n",
        "            if master_dictionary[word]['positive'] > 0:\n",
        "                positive_words_count += 1\n",
        "\n",
        "    negative_index = negative_words_count / total_words_count  # Calculate the negative index\n",
        "    positive_index = positive_words_count / total_words_count  # Calculate the positive index\n",
        "    uncertainty_index = uncertain_words_count / total_words_count  # Calculate the uncertainty index\n",
        "\n",
        "    return negative_index, positive_index, uncertainty_index, total_words_count, uncertain_words_count, negative_words_count, positive_words_count\n",
        "\n",
        "if __name__ == '__main__':\n",
        "    start = dt.datetime.now()\n",
        "#    print(f'\\n\\n{start.strftime(\"%c\")}\\nPROGRAM NAME: {sys.argv[0]}\\n')\n",
        "    md = r'c.csv'  # Update with your file path\n",
        "    master_dictionary = load_masterdictionary(md, True)"
      ],
      "metadata": {
        "id": "kr1JHw5_XkgA"
      },
      "execution_count": null,
      "outputs": []
    },
    {
      "cell_type": "code",
      "source": [
        "def evaluate_readability(text):\n",
        "    sentences = nltk.sent_tokenize(text)\n",
        "    words = nltk.word_tokenize(text)\n",
        "    num_sentences = len(sentences)\n",
        "    num_words = len(words)\n",
        "    num_syllables = 0\n",
        "    for word in words:\n",
        "        num_syllables += textstat.syllable_count(word)\n",
        "    return textstat.flesch_kincaid_grade(text), textstat.gunning_fog(text)"
      ],
      "metadata": {
        "id": "CIjhsXXqpvS_"
      },
      "execution_count": null,
      "outputs": []
    },
    {
      "cell_type": "code",
      "source": [
        "# File path for the Excel file\n",
        "file_path = 'results.xlsx'"
      ],
      "metadata": {
        "id": "_uI09me2doBv"
      },
      "execution_count": null,
      "outputs": []
    },
    {
      "cell_type": "code",
      "source": [
        "# Example FOMC statement to evaluate\n",
        "\n",
        "date = \"2010.10\"\n",
        "\n",
        "fomc_statement = \"\"\"\n",
        "   The Monetary Policy Committee of the Bank of Korea decided today to maintain the Base Rate at its current level (2.25%) for the intermeeting period.\n",
        "\n",
        "\n",
        "\n",
        "In the global economy, emerging market economies have sustained their favorable performance, and the economies of major advanced countries have largely continued their moderate recovery trend, even though the pace of the recovery in the US economy has slowed somewhat. Looking ahead, there exists the possibility of the heightened volatility of economic activity and exchange rates in major countries acting as a risk factor for the global economy.\n",
        "\n",
        "\n",
        "\n",
        "The underlying upward trend of domestic business activity has been maintained. Even though consumption has faltered, exports have sustained their buoyancy and facilities investment has increased. And, led by the private sector, labor market conditions have shown an improving trend.\n",
        "\n",
        "\n",
        "\n",
        "The domestic economy is expected to continue on an underlying upward track, even in the presence of external risk.\n",
        "\n",
        "\n",
        "\n",
        "Consumer price inflation has increased due to a sudden rise in farm product prices, and in the future, upward pressures on the demand side are expected to continue, being associated with the continued upswing in activity. In the real estate market, housing sales prices have continued to decline in Seoul and its surrounding areas, while those in other areas have maintained their increase.\n",
        "\n",
        "\n",
        "In the financial markets, stock prices have risen, the Korean won has appreciated, and market interest rates have declined in response chiefly to the expanded inflow of foreign portfolio investment funds. The scale of the growth in mortgage lending has widened due to the increase in the numbers of newly occupied apartments, even though house transactions have been inactive.\n",
        "\n",
        "\n",
        "\n",
        "Looking ahead, the Committee will conduct monetary policy in such a way as to help the economy maintain price stability, while sustaining sound growth under the accommodative policy stance. In carrying out policy, it will take overall account of financial and economic conditions at home and abroad\n",
        "\n",
        "\n",
        "\n",
        " \"\"\"\n",
        "\n",
        " ## run!!!\n",
        "\n",
        "if __name__ == '__main__':\n",
        "    start = dt.datetime.now()\n",
        "    md = r'c.csv'  # Update with your file path\n",
        "    master_dictionary = load_masterdictionary(md, True)\n",
        "\n",
        "    # Remove unnecessary line breaks and spaces\n",
        "    processed_text = re.sub(r'\\n+', ' ', fomc_statement)  # Replace multiple line breaks with a single space\n",
        "    processed_text = re.sub(r' +', ' ', processed_text)  # Replace multiple spaces with a single space\n",
        "\n",
        "    negative_index, positive_index, uncertainty_index, total_words_count, uncertain_words_count, negative_words_count, positive_words_count = evaluate_sentiment_indices(processed_text, master_dictionary)\n",
        "    flesch_kincaid_grade, gunning_fog_index = evaluate_readability(processed_text)\n",
        "\n",
        "    print(f\"\\nNumber of uncertain words: {uncertain_words_count}\")\n",
        "    print(f\"Number of negative words: {negative_words_count}\")\n",
        "    print(f\"Number of positive words: {positive_words_count}\")\n",
        "    print(f\"Number of total words: {total_words_count}\")\n",
        "    print(f\"Negative index for the FOMC statement: {negative_index:.2f}\")\n",
        "    print(f\"Positive index for the FOMC statement: {positive_index:.2f}\")\n",
        "    print(f\"Uncertainty index for the FOMC statement: {uncertainty_index:.2f}\")\n",
        "    print(f\"Flesch-Kincaid Grade Level: {flesch_kincaid_grade}\")\n",
        "    print(f\"Gunning Fog Index: {gunning_fog_index}\")\n",
        "\n",
        "    # Printing the actual words defined as positive, negative, and uncertainty\n",
        "    words = nltk.word_tokenize(processed_text)\n",
        "    words_uppercase = [word.upper() for word in words]  # Convert all words to uppercase\n",
        "    words_with_sentiment = [(word, master_dictionary[word]) for word in words_uppercase if word in master_dictionary]\n",
        "    positive_words = [word for word, sentiment in words_with_sentiment if sentiment['positive'] > 0]\n",
        "    negative_words = [word for word, sentiment in words_with_sentiment if sentiment['negative'] > 0]\n",
        "    uncertain_words = [word for word, sentiment in words_with_sentiment if sentiment['uncertainty'] > 0]\n",
        "    print(f\"\\nPositive words: {positive_words}\")\n",
        "    print(f\"Negative words: {negative_words}\")\n",
        "    print(f\"Uncertainty words: {uncertain_words}\")\n",
        "\n",
        "# Check if the file already exists, and load it if it does\n",
        "try:\n",
        "    workbook = load_workbook(file_path)\n",
        "    sheet = workbook.active\n",
        "except FileNotFoundError:\n",
        "    workbook = Workbook()\n",
        "    sheet = workbook.active\n",
        "    sheet.append(['Date', 'FOMC Statement', 'Positive Words', 'Negative Words', 'Uncertainty Words', 'Total Words', 'Positive Words List', 'Negative Words List', 'Uncertainty Words List', 'Flesch-Kincaid Grade Level', 'Gunning Fog Index'])\n",
        "\n",
        "# Append results to the Excel file\n",
        "sheet.append([date, processed_text, positive_words_count, negative_words_count, uncertain_words_count, total_words_count, ', '.join(positive_words), ', '.join(negative_words), ', '.join(uncertain_words), flesch_kincaid_grade, gunning_fog_index])\n",
        "\n",
        "# Save the workbook\n",
        "workbook.save(file_path)\n"
      ],
      "metadata": {
        "id": "OxHNB-30ilzZ"
      },
      "execution_count": null,
      "outputs": []
    },
    {
      "cell_type": "code",
      "source": [
        "## Visualization of tokenized words by categories\n",
        "\n",
        "categories = {'Positive': positive_words, 'Negative': negative_words, 'Uncertainty': uncertain_words}\n",
        "for category, words in categories.items():\n",
        "    word_counts = {word: words.count(word) for word in set(words)}\n",
        "    sorted_word_counts = dict(sorted(word_counts.items(), key=lambda item: item[1], reverse=True))\n",
        "    plt.figure(figsize=(10, 6))\n",
        "    plt.barh(list(sorted_word_counts.keys()), list(sorted_word_counts.values()), color='skyblue')\n",
        "    plt.ylabel('Words')\n",
        "    plt.xlabel('Frequency')\n",
        "    plt.title(f'Word Frequency for {category} Words')\n",
        "    plt.show()"
      ],
      "metadata": {
        "id": "SuLcCQ7nSLYk"
      },
      "execution_count": null,
      "outputs": []
    },
    {
      "cell_type": "markdown",
      "source": [
        "!!! Web crawling of NAVER"
      ],
      "metadata": {
        "id": "cw9QBHn4Q3FK"
      }
    },
    {
      "cell_type": "code",
      "source": [
        "!pip install selenium\n",
        "!pip install bs4\n",
        "!pip install webdriver_manager"
      ],
      "metadata": {
        "colab": {
          "base_uri": "https://localhost:8080/"
        },
        "id": "ZLkUi-AOjMrw",
        "outputId": "5ed64ca9-cb38-4afd-f1a0-98740505484d"
      },
      "execution_count": 128,
      "outputs": [
        {
          "output_type": "stream",
          "name": "stdout",
          "text": [
            "Collecting selenium\n",
            "  Downloading selenium-4.14.0-py3-none-any.whl (9.9 MB)\n",
            "\u001b[2K     \u001b[90m━━━━━━━━━━━━━━━━━━━━━━━━━━━━━━━━━━━━━━━━\u001b[0m \u001b[32m9.9/9.9 MB\u001b[0m \u001b[31m18.2 MB/s\u001b[0m eta \u001b[36m0:00:00\u001b[0m\n",
            "\u001b[?25hRequirement already satisfied: urllib3[socks]<3,>=1.26 in /usr/local/lib/python3.10/dist-packages (from selenium) (2.0.7)\n",
            "Collecting trio~=0.17 (from selenium)\n",
            "  Downloading trio-0.22.2-py3-none-any.whl (400 kB)\n",
            "\u001b[2K     \u001b[90m━━━━━━━━━━━━━━━━━━━━━━━━━━━━━━━━━━━━━━━━\u001b[0m \u001b[32m400.2/400.2 kB\u001b[0m \u001b[31m21.2 MB/s\u001b[0m eta \u001b[36m0:00:00\u001b[0m\n",
            "\u001b[?25hCollecting trio-websocket~=0.9 (from selenium)\n",
            "  Downloading trio_websocket-0.11.1-py3-none-any.whl (17 kB)\n",
            "Requirement already satisfied: certifi>=2021.10.8 in /usr/local/lib/python3.10/dist-packages (from selenium) (2023.7.22)\n",
            "Requirement already satisfied: attrs>=20.1.0 in /usr/local/lib/python3.10/dist-packages (from trio~=0.17->selenium) (23.1.0)\n",
            "Requirement already satisfied: sortedcontainers in /usr/local/lib/python3.10/dist-packages (from trio~=0.17->selenium) (2.4.0)\n",
            "Requirement already satisfied: idna in /usr/local/lib/python3.10/dist-packages (from trio~=0.17->selenium) (3.4)\n",
            "Collecting outcome (from trio~=0.17->selenium)\n",
            "  Downloading outcome-1.3.0-py2.py3-none-any.whl (10 kB)\n",
            "Requirement already satisfied: sniffio in /usr/local/lib/python3.10/dist-packages (from trio~=0.17->selenium) (1.3.0)\n",
            "Requirement already satisfied: exceptiongroup>=1.0.0rc9 in /usr/local/lib/python3.10/dist-packages (from trio~=0.17->selenium) (1.1.3)\n",
            "Collecting wsproto>=0.14 (from trio-websocket~=0.9->selenium)\n",
            "  Downloading wsproto-1.2.0-py3-none-any.whl (24 kB)\n",
            "Requirement already satisfied: pysocks!=1.5.7,<2.0,>=1.5.6 in /usr/local/lib/python3.10/dist-packages (from urllib3[socks]<3,>=1.26->selenium) (1.7.1)\n",
            "Collecting h11<1,>=0.9.0 (from wsproto>=0.14->trio-websocket~=0.9->selenium)\n",
            "  Downloading h11-0.14.0-py3-none-any.whl (58 kB)\n",
            "\u001b[2K     \u001b[90m━━━━━━━━━━━━━━━━━━━━━━━━━━━━━━━━━━━━━━━━\u001b[0m \u001b[32m58.3/58.3 kB\u001b[0m \u001b[31m6.8 MB/s\u001b[0m eta \u001b[36m0:00:00\u001b[0m\n",
            "\u001b[?25hInstalling collected packages: outcome, h11, wsproto, trio, trio-websocket, selenium\n",
            "Successfully installed h11-0.14.0 outcome-1.3.0 selenium-4.14.0 trio-0.22.2 trio-websocket-0.11.1 wsproto-1.2.0\n",
            "Collecting bs4\n",
            "  Downloading bs4-0.0.1.tar.gz (1.1 kB)\n",
            "  Preparing metadata (setup.py) ... \u001b[?25l\u001b[?25hdone\n",
            "Requirement already satisfied: beautifulsoup4 in /usr/local/lib/python3.10/dist-packages (from bs4) (4.11.2)\n",
            "Requirement already satisfied: soupsieve>1.2 in /usr/local/lib/python3.10/dist-packages (from beautifulsoup4->bs4) (2.5)\n",
            "Building wheels for collected packages: bs4\n",
            "  Building wheel for bs4 (setup.py) ... \u001b[?25l\u001b[?25hdone\n",
            "  Created wheel for bs4: filename=bs4-0.0.1-py3-none-any.whl size=1256 sha256=762ba4d004870e8c4f1a5b60aed64600bbf11c75e199e3966a554d7da871c62c\n",
            "  Stored in directory: /root/.cache/pip/wheels/25/42/45/b773edc52acb16cd2db4cf1a0b47117e2f69bb4eb300ed0e70\n",
            "Successfully built bs4\n",
            "Installing collected packages: bs4\n",
            "Successfully installed bs4-0.0.1\n"
          ]
        }
      ]
    },
    {
      "cell_type": "code",
      "source": [
        "from selenium.webdriver.chrome.service import Service"
      ],
      "metadata": {
        "id": "JHst9Kzgja02"
      },
      "execution_count": 143,
      "outputs": []
    },
    {
      "cell_type": "code",
      "source": [
        "#크롤링시 필요한 라이브러리 불러오기\n",
        "from bs4 import BeautifulSoup\n",
        "import requests\n",
        "import re\n",
        "import time\n",
        "from selenium import webdriver\n",
        "from selenium.webdriver.common.by import By\n",
        "from webdriver_manager.chrome import ChromeDriverManager\n",
        "\n",
        "#웹드라이버 설정\n",
        "options = webdriver.ChromeOptions()\n",
        "options.add_experimental_option(\"excludeSwitches\", [\"enable-automation\"])\n",
        "options.add_experimental_option(\"useAutomationExtension\", False)"
      ],
      "metadata": {
        "id": "haDjrqVLNinc"
      },
      "execution_count": 132,
      "outputs": []
    },
    {
      "cell_type": "code",
      "source": [
        "chrome_options = webdriver.ChromeOptions()"
      ],
      "metadata": {
        "id": "jIS3WCYnm09d"
      },
      "execution_count": 141,
      "outputs": []
    },
    {
      "cell_type": "code",
      "source": [
        "# 페이지 url 형식에 맞게 바꾸어 주는 함수 만들기\n",
        "  #입력된 수를 1, 11, 21, 31 ...만들어 주는 함수\n",
        "def makePgNum(num):\n",
        "    if num == 1:\n",
        "        return num\n",
        "    elif num == 0:\n",
        "        return num+1\n",
        "    else:\n",
        "        return num+9*(num-1)\n",
        "\n",
        "\n",
        "# 크롤링할 url 생성하는 함수 만들기(검색어, 크롤링 시작 페이지, 크롤링 종료 페이지)\n",
        "def makeUrl(search,start_pg,end_pg):\n",
        "    if start_pg == end_pg:\n",
        "        start_page = makePgNum(start_pg)\n",
        "        url = \"https://search.naver.com/search.naver?where=news&sm=tab_pge&query=\" + search + \"&start=\" + str(start_page)\n",
        "        print(\"생성url: \",url)\n",
        "        return url\n",
        "    else:\n",
        "        urls= []\n",
        "        for i in range(start_pg,end_pg+1):\n",
        "            page = makePgNum(i)\n",
        "            url = \"https://search.naver.com/search.naver?where=news&sm=tab_pge&query=\" + search + \"&start=\" + str(page)\n",
        "            urls.append(url)\n",
        "        print(\"생성url: \",urls)\n",
        "        return urls"
      ],
      "metadata": {
        "id": "JG76fK1JMubo"
      },
      "execution_count": 133,
      "outputs": []
    },
    {
      "cell_type": "code",
      "source": [
        "##########뉴스크롤링 시작###################\n",
        "\n",
        "#검색어 입력\n",
        "search = input(\"검색할 키워드를 입력해주세요:\")\n",
        "\n",
        "#검색 시작할 페이지 입력\n",
        "page = int(input(\"\\n크롤링할 시작 페이지를 입력해주세요. ex)1(숫자만입력):\")) # ex)1 =1페이지,2=2페이지...\n",
        "print(\"\\n크롤링할 시작 페이지: \",page,\"페이지\")\n",
        "#검색 종료할 페이지 입력\n",
        "page2 = int(input(\"\\n크롤링할 종료 페이지를 입력해주세요. ex)1(숫자만입력):\")) # ex)1 =1페이지,2=2페이지...\n",
        "print(\"\\n크롤링할 종료 페이지: \",page2,\"페이지\")\n",
        "\n",
        "# naver url 생성\n",
        "search_urls = makeUrl(search,page,page2)"
      ],
      "metadata": {
        "colab": {
          "base_uri": "https://localhost:8080/"
        },
        "id": "ra3Kkzwqj_je",
        "outputId": "684a251b-65f0-4966-b0dc-9bd78fc73f44"
      },
      "execution_count": 134,
      "outputs": [
        {
          "output_type": "stream",
          "name": "stdout",
          "text": [
            "검색할 키워드를 입력해주세요:한국은행\n",
            "\n",
            "크롤링할 시작 페이지를 입력해주세요. ex)1(숫자만입력):1\n",
            "\n",
            "크롤링할 시작 페이지:  1 페이지\n",
            "\n",
            "크롤링할 종료 페이지를 입력해주세요. ex)1(숫자만입력):100\n",
            "\n",
            "크롤링할 종료 페이지:  100 페이지\n",
            "생성url:  ['https://search.naver.com/search.naver?where=news&sm=tab_pge&query=한국은행&start=1', 'https://search.naver.com/search.naver?where=news&sm=tab_pge&query=한국은행&start=11', 'https://search.naver.com/search.naver?where=news&sm=tab_pge&query=한국은행&start=21', 'https://search.naver.com/search.naver?where=news&sm=tab_pge&query=한국은행&start=31', 'https://search.naver.com/search.naver?where=news&sm=tab_pge&query=한국은행&start=41', 'https://search.naver.com/search.naver?where=news&sm=tab_pge&query=한국은행&start=51', 'https://search.naver.com/search.naver?where=news&sm=tab_pge&query=한국은행&start=61', 'https://search.naver.com/search.naver?where=news&sm=tab_pge&query=한국은행&start=71', 'https://search.naver.com/search.naver?where=news&sm=tab_pge&query=한국은행&start=81', 'https://search.naver.com/search.naver?where=news&sm=tab_pge&query=한국은행&start=91', 'https://search.naver.com/search.naver?where=news&sm=tab_pge&query=한국은행&start=101', 'https://search.naver.com/search.naver?where=news&sm=tab_pge&query=한국은행&start=111', 'https://search.naver.com/search.naver?where=news&sm=tab_pge&query=한국은행&start=121', 'https://search.naver.com/search.naver?where=news&sm=tab_pge&query=한국은행&start=131', 'https://search.naver.com/search.naver?where=news&sm=tab_pge&query=한국은행&start=141', 'https://search.naver.com/search.naver?where=news&sm=tab_pge&query=한국은행&start=151', 'https://search.naver.com/search.naver?where=news&sm=tab_pge&query=한국은행&start=161', 'https://search.naver.com/search.naver?where=news&sm=tab_pge&query=한국은행&start=171', 'https://search.naver.com/search.naver?where=news&sm=tab_pge&query=한국은행&start=181', 'https://search.naver.com/search.naver?where=news&sm=tab_pge&query=한국은행&start=191', 'https://search.naver.com/search.naver?where=news&sm=tab_pge&query=한국은행&start=201', 'https://search.naver.com/search.naver?where=news&sm=tab_pge&query=한국은행&start=211', 'https://search.naver.com/search.naver?where=news&sm=tab_pge&query=한국은행&start=221', 'https://search.naver.com/search.naver?where=news&sm=tab_pge&query=한국은행&start=231', 'https://search.naver.com/search.naver?where=news&sm=tab_pge&query=한국은행&start=241', 'https://search.naver.com/search.naver?where=news&sm=tab_pge&query=한국은행&start=251', 'https://search.naver.com/search.naver?where=news&sm=tab_pge&query=한국은행&start=261', 'https://search.naver.com/search.naver?where=news&sm=tab_pge&query=한국은행&start=271', 'https://search.naver.com/search.naver?where=news&sm=tab_pge&query=한국은행&start=281', 'https://search.naver.com/search.naver?where=news&sm=tab_pge&query=한국은행&start=291', 'https://search.naver.com/search.naver?where=news&sm=tab_pge&query=한국은행&start=301', 'https://search.naver.com/search.naver?where=news&sm=tab_pge&query=한국은행&start=311', 'https://search.naver.com/search.naver?where=news&sm=tab_pge&query=한국은행&start=321', 'https://search.naver.com/search.naver?where=news&sm=tab_pge&query=한국은행&start=331', 'https://search.naver.com/search.naver?where=news&sm=tab_pge&query=한국은행&start=341', 'https://search.naver.com/search.naver?where=news&sm=tab_pge&query=한국은행&start=351', 'https://search.naver.com/search.naver?where=news&sm=tab_pge&query=한국은행&start=361', 'https://search.naver.com/search.naver?where=news&sm=tab_pge&query=한국은행&start=371', 'https://search.naver.com/search.naver?where=news&sm=tab_pge&query=한국은행&start=381', 'https://search.naver.com/search.naver?where=news&sm=tab_pge&query=한국은행&start=391', 'https://search.naver.com/search.naver?where=news&sm=tab_pge&query=한국은행&start=401', 'https://search.naver.com/search.naver?where=news&sm=tab_pge&query=한국은행&start=411', 'https://search.naver.com/search.naver?where=news&sm=tab_pge&query=한국은행&start=421', 'https://search.naver.com/search.naver?where=news&sm=tab_pge&query=한국은행&start=431', 'https://search.naver.com/search.naver?where=news&sm=tab_pge&query=한국은행&start=441', 'https://search.naver.com/search.naver?where=news&sm=tab_pge&query=한국은행&start=451', 'https://search.naver.com/search.naver?where=news&sm=tab_pge&query=한국은행&start=461', 'https://search.naver.com/search.naver?where=news&sm=tab_pge&query=한국은행&start=471', 'https://search.naver.com/search.naver?where=news&sm=tab_pge&query=한국은행&start=481', 'https://search.naver.com/search.naver?where=news&sm=tab_pge&query=한국은행&start=491', 'https://search.naver.com/search.naver?where=news&sm=tab_pge&query=한국은행&start=501', 'https://search.naver.com/search.naver?where=news&sm=tab_pge&query=한국은행&start=511', 'https://search.naver.com/search.naver?where=news&sm=tab_pge&query=한국은행&start=521', 'https://search.naver.com/search.naver?where=news&sm=tab_pge&query=한국은행&start=531', 'https://search.naver.com/search.naver?where=news&sm=tab_pge&query=한국은행&start=541', 'https://search.naver.com/search.naver?where=news&sm=tab_pge&query=한국은행&start=551', 'https://search.naver.com/search.naver?where=news&sm=tab_pge&query=한국은행&start=561', 'https://search.naver.com/search.naver?where=news&sm=tab_pge&query=한국은행&start=571', 'https://search.naver.com/search.naver?where=news&sm=tab_pge&query=한국은행&start=581', 'https://search.naver.com/search.naver?where=news&sm=tab_pge&query=한국은행&start=591', 'https://search.naver.com/search.naver?where=news&sm=tab_pge&query=한국은행&start=601', 'https://search.naver.com/search.naver?where=news&sm=tab_pge&query=한국은행&start=611', 'https://search.naver.com/search.naver?where=news&sm=tab_pge&query=한국은행&start=621', 'https://search.naver.com/search.naver?where=news&sm=tab_pge&query=한국은행&start=631', 'https://search.naver.com/search.naver?where=news&sm=tab_pge&query=한국은행&start=641', 'https://search.naver.com/search.naver?where=news&sm=tab_pge&query=한국은행&start=651', 'https://search.naver.com/search.naver?where=news&sm=tab_pge&query=한국은행&start=661', 'https://search.naver.com/search.naver?where=news&sm=tab_pge&query=한국은행&start=671', 'https://search.naver.com/search.naver?where=news&sm=tab_pge&query=한국은행&start=681', 'https://search.naver.com/search.naver?where=news&sm=tab_pge&query=한국은행&start=691', 'https://search.naver.com/search.naver?where=news&sm=tab_pge&query=한국은행&start=701', 'https://search.naver.com/search.naver?where=news&sm=tab_pge&query=한국은행&start=711', 'https://search.naver.com/search.naver?where=news&sm=tab_pge&query=한국은행&start=721', 'https://search.naver.com/search.naver?where=news&sm=tab_pge&query=한국은행&start=731', 'https://search.naver.com/search.naver?where=news&sm=tab_pge&query=한국은행&start=741', 'https://search.naver.com/search.naver?where=news&sm=tab_pge&query=한국은행&start=751', 'https://search.naver.com/search.naver?where=news&sm=tab_pge&query=한국은행&start=761', 'https://search.naver.com/search.naver?where=news&sm=tab_pge&query=한국은행&start=771', 'https://search.naver.com/search.naver?where=news&sm=tab_pge&query=한국은행&start=781', 'https://search.naver.com/search.naver?where=news&sm=tab_pge&query=한국은행&start=791', 'https://search.naver.com/search.naver?where=news&sm=tab_pge&query=한국은행&start=801', 'https://search.naver.com/search.naver?where=news&sm=tab_pge&query=한국은행&start=811', 'https://search.naver.com/search.naver?where=news&sm=tab_pge&query=한국은행&start=821', 'https://search.naver.com/search.naver?where=news&sm=tab_pge&query=한국은행&start=831', 'https://search.naver.com/search.naver?where=news&sm=tab_pge&query=한국은행&start=841', 'https://search.naver.com/search.naver?where=news&sm=tab_pge&query=한국은행&start=851', 'https://search.naver.com/search.naver?where=news&sm=tab_pge&query=한국은행&start=861', 'https://search.naver.com/search.naver?where=news&sm=tab_pge&query=한국은행&start=871', 'https://search.naver.com/search.naver?where=news&sm=tab_pge&query=한국은행&start=881', 'https://search.naver.com/search.naver?where=news&sm=tab_pge&query=한국은행&start=891', 'https://search.naver.com/search.naver?where=news&sm=tab_pge&query=한국은행&start=901', 'https://search.naver.com/search.naver?where=news&sm=tab_pge&query=한국은행&start=911', 'https://search.naver.com/search.naver?where=news&sm=tab_pge&query=한국은행&start=921', 'https://search.naver.com/search.naver?where=news&sm=tab_pge&query=한국은행&start=931', 'https://search.naver.com/search.naver?where=news&sm=tab_pge&query=한국은행&start=941', 'https://search.naver.com/search.naver?where=news&sm=tab_pge&query=한국은행&start=951', 'https://search.naver.com/search.naver?where=news&sm=tab_pge&query=한국은행&start=961', 'https://search.naver.com/search.naver?where=news&sm=tab_pge&query=한국은행&start=971', 'https://search.naver.com/search.naver?where=news&sm=tab_pge&query=한국은행&start=981', 'https://search.naver.com/search.naver?where=news&sm=tab_pge&query=한국은행&start=991']\n"
          ]
        }
      ]
    },
    {
      "cell_type": "code",
      "source": [
        "## selenium으로 naver news만 뽑아오기##\n",
        "# 버전에 상관 없이 os에 설치된 크롬 브라우저 사용\n",
        "driver = webdriver.Chrome(ChromeDriverManager().install())\n",
        "driver.implicitly_wait(3)\n",
        "\n",
        "\n",
        "# selenium으로 검색 페이지 불러오기 #\n",
        "\n",
        "naver_urls=[]\n",
        "\n",
        "for i in search_urls:\n",
        "    driver.get(i)\n",
        "    time.sleep(1) #대기시간 변경 가능\n",
        "\n",
        "    # 네이버 기사 눌러서 제목 및 본문 가져오기#\n",
        "    # 네이버 기사가 있는 기사 css selector 모아오기\n",
        "    a = driver.find_elements(By.CSS_SELECTOR,'a.info')\n",
        "\n",
        "    # 위에서 생성한 css selector list 하나씩 클릭하여 본문 url얻기\n",
        "    for i in a:\n",
        "        i.click()\n",
        "\n",
        "        # 현재탭에 접근\n",
        "        driver.switch_to.window(driver.window_handles[1])\n",
        "        time.sleep(3) #대기시간 변경 가능\n",
        "\n",
        "        # 네이버 뉴스 url만 가져오기\n",
        "\n",
        "        url = driver.current_url\n",
        "        print(url)\n",
        "\n",
        "        if \"news.naver.com\" in url:\n",
        "            naver_urls.append(url)\n",
        "\n",
        "        else:\n",
        "            pass\n",
        "\n",
        "        # 현재 탭 닫기\n",
        "        driver.close()\n",
        "\n",
        "        # 다시처음 탭으로 돌아가기(매우 중요!!!)\n",
        "        driver.switch_to_window(driver.window_handles[0])\n",
        "\n",
        "print(naver_urls)"
      ],
      "metadata": {
        "colab": {
          "base_uri": "https://localhost:8080/",
          "height": 410
        },
        "id": "BfBx6P2dj_pW",
        "outputId": "f99d43d1-7627-4a72-99e6-00b2109b3213"
      },
      "execution_count": 136,
      "outputs": [
        {
          "output_type": "error",
          "ename": "AttributeError",
          "evalue": "ignored",
          "traceback": [
            "\u001b[0;31m---------------------------------------------------------------------------\u001b[0m",
            "\u001b[0;31mAttributeError\u001b[0m                            Traceback (most recent call last)",
            "\u001b[0;32m<ipython-input-136-bf62289d537f>\u001b[0m in \u001b[0;36m<cell line: 3>\u001b[0;34m()\u001b[0m\n\u001b[1;32m      1\u001b[0m \u001b[0;31m## selenium으로 navernews만 뽑아오기##\u001b[0m\u001b[0;34m\u001b[0m\u001b[0;34m\u001b[0m\u001b[0m\n\u001b[1;32m      2\u001b[0m \u001b[0;31m# 버전에 상관 없이 os에 설치된 크롬 브라우저 사용\u001b[0m\u001b[0;34m\u001b[0m\u001b[0;34m\u001b[0m\u001b[0m\n\u001b[0;32m----> 3\u001b[0;31m \u001b[0mdriver\u001b[0m \u001b[0;34m=\u001b[0m \u001b[0mwebdriver\u001b[0m\u001b[0;34m.\u001b[0m\u001b[0mChrome\u001b[0m\u001b[0;34m(\u001b[0m\u001b[0mChromeDriverManager\u001b[0m\u001b[0;34m(\u001b[0m\u001b[0mchrome_type\u001b[0m\u001b[0;34m=\u001b[0m\u001b[0;34m'google'\u001b[0m\u001b[0;34m)\u001b[0m\u001b[0;34m.\u001b[0m\u001b[0minstall\u001b[0m\u001b[0;34m(\u001b[0m\u001b[0;34m)\u001b[0m\u001b[0;34m)\u001b[0m\u001b[0;34m\u001b[0m\u001b[0;34m\u001b[0m\u001b[0m\n\u001b[0m\u001b[1;32m      4\u001b[0m \u001b[0mdriver\u001b[0m\u001b[0;34m.\u001b[0m\u001b[0mimplicitly_wait\u001b[0m\u001b[0;34m(\u001b[0m\u001b[0;36m3\u001b[0m\u001b[0;34m)\u001b[0m\u001b[0;34m\u001b[0m\u001b[0;34m\u001b[0m\u001b[0m\n\u001b[1;32m      5\u001b[0m \u001b[0;34m\u001b[0m\u001b[0m\n",
            "\u001b[0;32m/usr/local/lib/python3.10/dist-packages/webdriver_manager/chrome.py\u001b[0m in \u001b[0;36minstall\u001b[0;34m(self)\u001b[0m\n\u001b[1;32m     38\u001b[0m \u001b[0;34m\u001b[0m\u001b[0m\n\u001b[1;32m     39\u001b[0m     \u001b[0;32mdef\u001b[0m \u001b[0minstall\u001b[0m\u001b[0;34m(\u001b[0m\u001b[0mself\u001b[0m\u001b[0;34m)\u001b[0m \u001b[0;34m->\u001b[0m \u001b[0mstr\u001b[0m\u001b[0;34m:\u001b[0m\u001b[0;34m\u001b[0m\u001b[0;34m\u001b[0m\u001b[0m\n\u001b[0;32m---> 40\u001b[0;31m         \u001b[0mdriver_path\u001b[0m \u001b[0;34m=\u001b[0m \u001b[0mself\u001b[0m\u001b[0;34m.\u001b[0m\u001b[0m_get_driver_binary_path\u001b[0m\u001b[0;34m(\u001b[0m\u001b[0mself\u001b[0m\u001b[0;34m.\u001b[0m\u001b[0mdriver\u001b[0m\u001b[0;34m)\u001b[0m\u001b[0;34m\u001b[0m\u001b[0;34m\u001b[0m\u001b[0m\n\u001b[0m\u001b[1;32m     41\u001b[0m         \u001b[0mos\u001b[0m\u001b[0;34m.\u001b[0m\u001b[0mchmod\u001b[0m\u001b[0;34m(\u001b[0m\u001b[0mdriver_path\u001b[0m\u001b[0;34m,\u001b[0m \u001b[0;36m0o755\u001b[0m\u001b[0;34m)\u001b[0m\u001b[0;34m\u001b[0m\u001b[0;34m\u001b[0m\u001b[0m\n\u001b[1;32m     42\u001b[0m         \u001b[0;32mreturn\u001b[0m \u001b[0mdriver_path\u001b[0m\u001b[0;34m\u001b[0m\u001b[0;34m\u001b[0m\u001b[0m\n",
            "\u001b[0;32m/usr/local/lib/python3.10/dist-packages/webdriver_manager/core/manager.py\u001b[0m in \u001b[0;36m_get_driver_binary_path\u001b[0;34m(self, driver)\u001b[0m\n\u001b[1;32m     38\u001b[0m \u001b[0;34m\u001b[0m\u001b[0m\n\u001b[1;32m     39\u001b[0m         \u001b[0mos_type\u001b[0m \u001b[0;34m=\u001b[0m \u001b[0mself\u001b[0m\u001b[0;34m.\u001b[0m\u001b[0mget_os_type\u001b[0m\u001b[0;34m(\u001b[0m\u001b[0;34m)\u001b[0m\u001b[0;34m\u001b[0m\u001b[0;34m\u001b[0m\u001b[0m\n\u001b[0;32m---> 40\u001b[0;31m         \u001b[0mfile\u001b[0m \u001b[0;34m=\u001b[0m \u001b[0mself\u001b[0m\u001b[0;34m.\u001b[0m\u001b[0m_download_manager\u001b[0m\u001b[0;34m.\u001b[0m\u001b[0mdownload_file\u001b[0m\u001b[0;34m(\u001b[0m\u001b[0mdriver\u001b[0m\u001b[0;34m.\u001b[0m\u001b[0mget_driver_download_url\u001b[0m\u001b[0;34m(\u001b[0m\u001b[0mos_type\u001b[0m\u001b[0;34m)\u001b[0m\u001b[0;34m)\u001b[0m\u001b[0;34m\u001b[0m\u001b[0;34m\u001b[0m\u001b[0m\n\u001b[0m\u001b[1;32m     41\u001b[0m         \u001b[0mbinary_path\u001b[0m \u001b[0;34m=\u001b[0m \u001b[0mself\u001b[0m\u001b[0;34m.\u001b[0m\u001b[0m_cache_manager\u001b[0m\u001b[0;34m.\u001b[0m\u001b[0msave_file_to_cache\u001b[0m\u001b[0;34m(\u001b[0m\u001b[0mdriver\u001b[0m\u001b[0;34m,\u001b[0m \u001b[0mfile\u001b[0m\u001b[0;34m)\u001b[0m\u001b[0;34m\u001b[0m\u001b[0;34m\u001b[0m\u001b[0m\n\u001b[1;32m     42\u001b[0m         \u001b[0;32mreturn\u001b[0m \u001b[0mbinary_path\u001b[0m\u001b[0;34m\u001b[0m\u001b[0;34m\u001b[0m\u001b[0m\n",
            "\u001b[0;32m/usr/local/lib/python3.10/dist-packages/webdriver_manager/drivers/chrome.py\u001b[0m in \u001b[0;36mget_driver_download_url\u001b[0;34m(self, os_type)\u001b[0m\n\u001b[1;32m     30\u001b[0m \u001b[0;34m\u001b[0m\u001b[0m\n\u001b[1;32m     31\u001b[0m     \u001b[0;32mdef\u001b[0m \u001b[0mget_driver_download_url\u001b[0m\u001b[0;34m(\u001b[0m\u001b[0mself\u001b[0m\u001b[0;34m,\u001b[0m \u001b[0mos_type\u001b[0m\u001b[0;34m)\u001b[0m\u001b[0;34m:\u001b[0m\u001b[0;34m\u001b[0m\u001b[0;34m\u001b[0m\u001b[0m\n\u001b[0;32m---> 32\u001b[0;31m         \u001b[0mdriver_version_to_download\u001b[0m \u001b[0;34m=\u001b[0m \u001b[0mself\u001b[0m\u001b[0;34m.\u001b[0m\u001b[0mget_driver_version_to_download\u001b[0m\u001b[0;34m(\u001b[0m\u001b[0;34m)\u001b[0m\u001b[0;34m\u001b[0m\u001b[0;34m\u001b[0m\u001b[0m\n\u001b[0m\u001b[1;32m     33\u001b[0m         \u001b[0;31m# For Mac ARM CPUs after version 106.0.5249.61 the format of OS type changed\u001b[0m\u001b[0;34m\u001b[0m\u001b[0;34m\u001b[0m\u001b[0m\n\u001b[1;32m     34\u001b[0m         \u001b[0;31m# to more unified \"mac_arm64\". For newer versions, it'll be \"mac_arm64\"\u001b[0m\u001b[0;34m\u001b[0m\u001b[0;34m\u001b[0m\u001b[0m\n",
            "\u001b[0;32m/usr/local/lib/python3.10/dist-packages/webdriver_manager/core/driver.py\u001b[0m in \u001b[0;36mget_driver_version_to_download\u001b[0;34m(self)\u001b[0m\n\u001b[1;32m     46\u001b[0m             \u001b[0;32mreturn\u001b[0m \u001b[0mself\u001b[0m\u001b[0;34m.\u001b[0m\u001b[0m_driver_version_to_download\u001b[0m\u001b[0;34m\u001b[0m\u001b[0;34m\u001b[0m\u001b[0m\n\u001b[1;32m     47\u001b[0m \u001b[0;34m\u001b[0m\u001b[0m\n\u001b[0;32m---> 48\u001b[0;31m         \u001b[0;32mreturn\u001b[0m \u001b[0mself\u001b[0m\u001b[0;34m.\u001b[0m\u001b[0mget_latest_release_version\u001b[0m\u001b[0;34m(\u001b[0m\u001b[0;34m)\u001b[0m\u001b[0;34m\u001b[0m\u001b[0;34m\u001b[0m\u001b[0m\n\u001b[0m\u001b[1;32m     49\u001b[0m \u001b[0;34m\u001b[0m\u001b[0m\n\u001b[1;32m     50\u001b[0m     \u001b[0;32mdef\u001b[0m \u001b[0mget_latest_release_version\u001b[0m\u001b[0;34m(\u001b[0m\u001b[0mself\u001b[0m\u001b[0;34m)\u001b[0m\u001b[0;34m:\u001b[0m\u001b[0;34m\u001b[0m\u001b[0;34m\u001b[0m\u001b[0m\n",
            "\u001b[0;32m/usr/local/lib/python3.10/dist-packages/webdriver_manager/drivers/chrome.py\u001b[0m in \u001b[0;36mget_latest_release_version\u001b[0;34m(self)\u001b[0m\n\u001b[1;32m     62\u001b[0m             \u001b[0;32mreturn\u001b[0m \u001b[0mdetermined_browser_version\u001b[0m\u001b[0;34m\u001b[0m\u001b[0;34m\u001b[0m\u001b[0m\n\u001b[1;32m     63\u001b[0m         \u001b[0;31m# Remove the build version (the last segment) from determined_browser_version for version < 113\u001b[0m\u001b[0;34m\u001b[0m\u001b[0;34m\u001b[0m\u001b[0m\n\u001b[0;32m---> 64\u001b[0;31m         \u001b[0mdetermined_browser_version\u001b[0m \u001b[0;34m=\u001b[0m \u001b[0;34m\".\"\u001b[0m\u001b[0;34m.\u001b[0m\u001b[0mjoin\u001b[0m\u001b[0;34m(\u001b[0m\u001b[0mdetermined_browser_version\u001b[0m\u001b[0;34m.\u001b[0m\u001b[0msplit\u001b[0m\u001b[0;34m(\u001b[0m\u001b[0;34m\".\"\u001b[0m\u001b[0;34m)\u001b[0m\u001b[0;34m[\u001b[0m\u001b[0;34m:\u001b[0m\u001b[0;36m3\u001b[0m\u001b[0;34m]\u001b[0m\u001b[0;34m)\u001b[0m\u001b[0;34m\u001b[0m\u001b[0;34m\u001b[0m\u001b[0m\n\u001b[0m\u001b[1;32m     65\u001b[0m         latest_release_url = (\n\u001b[1;32m     66\u001b[0m             \u001b[0mself\u001b[0m\u001b[0;34m.\u001b[0m\u001b[0m_latest_release_url\u001b[0m\u001b[0;34m\u001b[0m\u001b[0;34m\u001b[0m\u001b[0m\n",
            "\u001b[0;31mAttributeError\u001b[0m: 'NoneType' object has no attribute 'split'"
          ]
        }
      ]
    },
    {
      "cell_type": "code",
      "source": [
        "## selenium으로 navernews만 뽑아오기##\n",
        "# 버전에 상관 없이 os에 설치된 크롬 브라우저 사용\n",
        "driver = webdriver.Chrome(service=Service(ChromeDriverManager().install()), options=chrome_options)"
      ],
      "metadata": {
        "colab": {
          "base_uri": "https://localhost:8080/",
          "height": 373
        },
        "id": "JPsOCSuDlwp9",
        "outputId": "89d39629-59d9-451f-87ea-872b59b86ad9"
      },
      "execution_count": 144,
      "outputs": [
        {
          "output_type": "error",
          "ename": "AttributeError",
          "evalue": "ignored",
          "traceback": [
            "\u001b[0;31m---------------------------------------------------------------------------\u001b[0m",
            "\u001b[0;31mAttributeError\u001b[0m                            Traceback (most recent call last)",
            "\u001b[0;32m<ipython-input-144-f81835e3796a>\u001b[0m in \u001b[0;36m<cell line: 3>\u001b[0;34m()\u001b[0m\n\u001b[1;32m      1\u001b[0m \u001b[0;31m## selenium으로 navernews만 뽑아오기##\u001b[0m\u001b[0;34m\u001b[0m\u001b[0;34m\u001b[0m\u001b[0m\n\u001b[1;32m      2\u001b[0m \u001b[0;31m# 버전에 상관 없이 os에 설치된 크롬 브라우저 사용\u001b[0m\u001b[0;34m\u001b[0m\u001b[0;34m\u001b[0m\u001b[0m\n\u001b[0;32m----> 3\u001b[0;31m \u001b[0mdriver\u001b[0m \u001b[0;34m=\u001b[0m \u001b[0mwebdriver\u001b[0m\u001b[0;34m.\u001b[0m\u001b[0mChrome\u001b[0m\u001b[0;34m(\u001b[0m\u001b[0mservice\u001b[0m\u001b[0;34m=\u001b[0m\u001b[0mService\u001b[0m\u001b[0;34m(\u001b[0m\u001b[0mChromeDriverManager\u001b[0m\u001b[0;34m(\u001b[0m\u001b[0;34m)\u001b[0m\u001b[0;34m.\u001b[0m\u001b[0minstall\u001b[0m\u001b[0;34m(\u001b[0m\u001b[0;34m)\u001b[0m\u001b[0;34m)\u001b[0m\u001b[0;34m,\u001b[0m \u001b[0moptions\u001b[0m\u001b[0;34m=\u001b[0m\u001b[0mchrome_options\u001b[0m\u001b[0;34m)\u001b[0m\u001b[0;34m\u001b[0m\u001b[0;34m\u001b[0m\u001b[0m\n\u001b[0m",
            "\u001b[0;32m/usr/local/lib/python3.10/dist-packages/webdriver_manager/chrome.py\u001b[0m in \u001b[0;36minstall\u001b[0;34m(self)\u001b[0m\n\u001b[1;32m     38\u001b[0m \u001b[0;34m\u001b[0m\u001b[0m\n\u001b[1;32m     39\u001b[0m     \u001b[0;32mdef\u001b[0m \u001b[0minstall\u001b[0m\u001b[0;34m(\u001b[0m\u001b[0mself\u001b[0m\u001b[0;34m)\u001b[0m \u001b[0;34m->\u001b[0m \u001b[0mstr\u001b[0m\u001b[0;34m:\u001b[0m\u001b[0;34m\u001b[0m\u001b[0;34m\u001b[0m\u001b[0m\n\u001b[0;32m---> 40\u001b[0;31m         \u001b[0mdriver_path\u001b[0m \u001b[0;34m=\u001b[0m \u001b[0mself\u001b[0m\u001b[0;34m.\u001b[0m\u001b[0m_get_driver_binary_path\u001b[0m\u001b[0;34m(\u001b[0m\u001b[0mself\u001b[0m\u001b[0;34m.\u001b[0m\u001b[0mdriver\u001b[0m\u001b[0;34m)\u001b[0m\u001b[0;34m\u001b[0m\u001b[0;34m\u001b[0m\u001b[0m\n\u001b[0m\u001b[1;32m     41\u001b[0m         \u001b[0mos\u001b[0m\u001b[0;34m.\u001b[0m\u001b[0mchmod\u001b[0m\u001b[0;34m(\u001b[0m\u001b[0mdriver_path\u001b[0m\u001b[0;34m,\u001b[0m \u001b[0;36m0o755\u001b[0m\u001b[0;34m)\u001b[0m\u001b[0;34m\u001b[0m\u001b[0;34m\u001b[0m\u001b[0m\n\u001b[1;32m     42\u001b[0m         \u001b[0;32mreturn\u001b[0m \u001b[0mdriver_path\u001b[0m\u001b[0;34m\u001b[0m\u001b[0;34m\u001b[0m\u001b[0m\n",
            "\u001b[0;32m/usr/local/lib/python3.10/dist-packages/webdriver_manager/core/manager.py\u001b[0m in \u001b[0;36m_get_driver_binary_path\u001b[0;34m(self, driver)\u001b[0m\n\u001b[1;32m     38\u001b[0m \u001b[0;34m\u001b[0m\u001b[0m\n\u001b[1;32m     39\u001b[0m         \u001b[0mos_type\u001b[0m \u001b[0;34m=\u001b[0m \u001b[0mself\u001b[0m\u001b[0;34m.\u001b[0m\u001b[0mget_os_type\u001b[0m\u001b[0;34m(\u001b[0m\u001b[0;34m)\u001b[0m\u001b[0;34m\u001b[0m\u001b[0;34m\u001b[0m\u001b[0m\n\u001b[0;32m---> 40\u001b[0;31m         \u001b[0mfile\u001b[0m \u001b[0;34m=\u001b[0m \u001b[0mself\u001b[0m\u001b[0;34m.\u001b[0m\u001b[0m_download_manager\u001b[0m\u001b[0;34m.\u001b[0m\u001b[0mdownload_file\u001b[0m\u001b[0;34m(\u001b[0m\u001b[0mdriver\u001b[0m\u001b[0;34m.\u001b[0m\u001b[0mget_driver_download_url\u001b[0m\u001b[0;34m(\u001b[0m\u001b[0mos_type\u001b[0m\u001b[0;34m)\u001b[0m\u001b[0;34m)\u001b[0m\u001b[0;34m\u001b[0m\u001b[0;34m\u001b[0m\u001b[0m\n\u001b[0m\u001b[1;32m     41\u001b[0m         \u001b[0mbinary_path\u001b[0m \u001b[0;34m=\u001b[0m \u001b[0mself\u001b[0m\u001b[0;34m.\u001b[0m\u001b[0m_cache_manager\u001b[0m\u001b[0;34m.\u001b[0m\u001b[0msave_file_to_cache\u001b[0m\u001b[0;34m(\u001b[0m\u001b[0mdriver\u001b[0m\u001b[0;34m,\u001b[0m \u001b[0mfile\u001b[0m\u001b[0;34m)\u001b[0m\u001b[0;34m\u001b[0m\u001b[0;34m\u001b[0m\u001b[0m\n\u001b[1;32m     42\u001b[0m         \u001b[0;32mreturn\u001b[0m \u001b[0mbinary_path\u001b[0m\u001b[0;34m\u001b[0m\u001b[0;34m\u001b[0m\u001b[0m\n",
            "\u001b[0;32m/usr/local/lib/python3.10/dist-packages/webdriver_manager/drivers/chrome.py\u001b[0m in \u001b[0;36mget_driver_download_url\u001b[0;34m(self, os_type)\u001b[0m\n\u001b[1;32m     30\u001b[0m \u001b[0;34m\u001b[0m\u001b[0m\n\u001b[1;32m     31\u001b[0m     \u001b[0;32mdef\u001b[0m \u001b[0mget_driver_download_url\u001b[0m\u001b[0;34m(\u001b[0m\u001b[0mself\u001b[0m\u001b[0;34m,\u001b[0m \u001b[0mos_type\u001b[0m\u001b[0;34m)\u001b[0m\u001b[0;34m:\u001b[0m\u001b[0;34m\u001b[0m\u001b[0;34m\u001b[0m\u001b[0m\n\u001b[0;32m---> 32\u001b[0;31m         \u001b[0mdriver_version_to_download\u001b[0m \u001b[0;34m=\u001b[0m \u001b[0mself\u001b[0m\u001b[0;34m.\u001b[0m\u001b[0mget_driver_version_to_download\u001b[0m\u001b[0;34m(\u001b[0m\u001b[0;34m)\u001b[0m\u001b[0;34m\u001b[0m\u001b[0;34m\u001b[0m\u001b[0m\n\u001b[0m\u001b[1;32m     33\u001b[0m         \u001b[0;31m# For Mac ARM CPUs after version 106.0.5249.61 the format of OS type changed\u001b[0m\u001b[0;34m\u001b[0m\u001b[0;34m\u001b[0m\u001b[0m\n\u001b[1;32m     34\u001b[0m         \u001b[0;31m# to more unified \"mac_arm64\". For newer versions, it'll be \"mac_arm64\"\u001b[0m\u001b[0;34m\u001b[0m\u001b[0;34m\u001b[0m\u001b[0m\n",
            "\u001b[0;32m/usr/local/lib/python3.10/dist-packages/webdriver_manager/core/driver.py\u001b[0m in \u001b[0;36mget_driver_version_to_download\u001b[0;34m(self)\u001b[0m\n\u001b[1;32m     46\u001b[0m             \u001b[0;32mreturn\u001b[0m \u001b[0mself\u001b[0m\u001b[0;34m.\u001b[0m\u001b[0m_driver_version_to_download\u001b[0m\u001b[0;34m\u001b[0m\u001b[0;34m\u001b[0m\u001b[0m\n\u001b[1;32m     47\u001b[0m \u001b[0;34m\u001b[0m\u001b[0m\n\u001b[0;32m---> 48\u001b[0;31m         \u001b[0;32mreturn\u001b[0m \u001b[0mself\u001b[0m\u001b[0;34m.\u001b[0m\u001b[0mget_latest_release_version\u001b[0m\u001b[0;34m(\u001b[0m\u001b[0;34m)\u001b[0m\u001b[0;34m\u001b[0m\u001b[0;34m\u001b[0m\u001b[0m\n\u001b[0m\u001b[1;32m     49\u001b[0m \u001b[0;34m\u001b[0m\u001b[0m\n\u001b[1;32m     50\u001b[0m     \u001b[0;32mdef\u001b[0m \u001b[0mget_latest_release_version\u001b[0m\u001b[0;34m(\u001b[0m\u001b[0mself\u001b[0m\u001b[0;34m)\u001b[0m\u001b[0;34m:\u001b[0m\u001b[0;34m\u001b[0m\u001b[0;34m\u001b[0m\u001b[0m\n",
            "\u001b[0;32m/usr/local/lib/python3.10/dist-packages/webdriver_manager/drivers/chrome.py\u001b[0m in \u001b[0;36mget_latest_release_version\u001b[0;34m(self)\u001b[0m\n\u001b[1;32m     62\u001b[0m             \u001b[0;32mreturn\u001b[0m \u001b[0mdetermined_browser_version\u001b[0m\u001b[0;34m\u001b[0m\u001b[0;34m\u001b[0m\u001b[0m\n\u001b[1;32m     63\u001b[0m         \u001b[0;31m# Remove the build version (the last segment) from determined_browser_version for version < 113\u001b[0m\u001b[0;34m\u001b[0m\u001b[0;34m\u001b[0m\u001b[0m\n\u001b[0;32m---> 64\u001b[0;31m         \u001b[0mdetermined_browser_version\u001b[0m \u001b[0;34m=\u001b[0m \u001b[0;34m\".\"\u001b[0m\u001b[0;34m.\u001b[0m\u001b[0mjoin\u001b[0m\u001b[0;34m(\u001b[0m\u001b[0mdetermined_browser_version\u001b[0m\u001b[0;34m.\u001b[0m\u001b[0msplit\u001b[0m\u001b[0;34m(\u001b[0m\u001b[0;34m\".\"\u001b[0m\u001b[0;34m)\u001b[0m\u001b[0;34m[\u001b[0m\u001b[0;34m:\u001b[0m\u001b[0;36m3\u001b[0m\u001b[0;34m]\u001b[0m\u001b[0;34m)\u001b[0m\u001b[0;34m\u001b[0m\u001b[0;34m\u001b[0m\u001b[0m\n\u001b[0m\u001b[1;32m     65\u001b[0m         latest_release_url = (\n\u001b[1;32m     66\u001b[0m             \u001b[0mself\u001b[0m\u001b[0;34m.\u001b[0m\u001b[0m_latest_release_url\u001b[0m\u001b[0;34m\u001b[0m\u001b[0;34m\u001b[0m\u001b[0m\n",
            "\u001b[0;31mAttributeError\u001b[0m: 'NoneType' object has no attribute 'split'"
          ]
        }
      ]
    },
    {
      "cell_type": "code",
      "source": [
        "###naver 기사 본문 및 제목 가져오기###\n",
        "\n",
        "# ConnectionError방지\n",
        "headers = { \"User-Agent\": \"Mozilla/5.0 (Windows NT 10.0; Win64; x64) Chrome/98.0.4758.102\" }\n",
        "\n",
        "titles = []\n",
        "contents=[]\n",
        "for i in naver_urls:\n",
        "    original_html = requests.get(i,headers=headers)\n",
        "    html = BeautifulSoup(original_html.text, \"html.parser\")\n",
        "    # 검색결과확인시\n",
        "    #print(html)\n",
        "\n",
        "    #뉴스 제목 가져오기\n",
        "    title = html.select(\"div.content > div.article_header > div.article_info > h3\")\n",
        "    # list합치기\n",
        "    title = ''.join(str(title))\n",
        "    # html태그제거\n",
        "    pattern1 = '<[^>]*>'\n",
        "    title = re.sub(pattern=pattern1,repl='',string=title)\n",
        "    titles.append(title)\n",
        "\n",
        "    #뉴스 본문 가져오기\n",
        "\n",
        "    content = html.select(\"div.content > div#articleBody > div#articleBodyContents\")\n",
        "\n",
        "    # 기사 텍스트만 가져오기\n",
        "    # list합치기\n",
        "    content = ''.join(str(content))\n",
        "\n",
        "    #html태그제거 및 텍스트 다듬기\n",
        "    content = re.sub(pattern=pattern1,repl='',string=content)\n",
        "    pattern2 = \"\"\"[\\n\\n\\n\\n\\n// flash 오류를 우회하기 위한 함수 추가\\nfunction _flash_removeCallback() {}\"\"\"\n",
        "    content = content.replace(pattern2,'')\n",
        "\n",
        "    contents.append(content)\n",
        "\n",
        "print(titles)\n",
        "print(contents)"
      ],
      "metadata": {
        "id": "fJJOijYkkTZL"
      },
      "execution_count": null,
      "outputs": []
    },
    {
      "cell_type": "code",
      "source": [],
      "metadata": {
        "id": "9_JlhTSnkTvG"
      },
      "execution_count": null,
      "outputs": []
    },
    {
      "cell_type": "code",
      "source": [
        "### force delete\n",
        "\n",
        "import os\n",
        "import shutil\n",
        "shutil.rmtree('zipf.png', ignore_errors=True)"
      ],
      "metadata": {
        "id": "nTV_ZENzeDNR"
      },
      "execution_count": null,
      "outputs": []
    }
  ],
  "metadata": {
    "colab": {
      "name": "Colaboratory에 오신 것을 환영합니다",
      "provenance": [],
      "include_colab_link": true
    },
    "kernelspec": {
      "display_name": "Python 3",
      "name": "python3"
    }
  },
  "nbformat": 4,
  "nbformat_minor": 0
}