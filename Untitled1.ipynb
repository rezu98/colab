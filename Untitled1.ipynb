{
  "nbformat": 4,
  "nbformat_minor": 0,
  "metadata": {
    "colab": {
      "provenance": [],
      "authorship_tag": "ABX9TyPClzpywqbJJhlvpu1Lq0tt",
      "include_colab_link": true
    },
    "kernelspec": {
      "name": "python3",
      "display_name": "Python 3"
    },
    "language_info": {
      "name": "python"
    }
  },
  "cells": [
    {
      "cell_type": "markdown",
      "metadata": {
        "id": "view-in-github",
        "colab_type": "text"
      },
      "source": [
        "<a href=\"https://colab.research.google.com/github/rezu98/colab/blob/main/Untitled1.ipynb\" target=\"_parent\"><img src=\"https://colab.research.google.com/assets/colab-badge.svg\" alt=\"Open In Colab\"/></a>"
      ]
    },
    {
      "cell_type": "code",
      "source": [
        "import pandas as pd\n",
        "import statsmodels.api as sm\n",
        "import numpy as np\n",
        "import seaborn as sns\n",
        "import matplotlib.pyplot as plt   \n",
        "from arch import arch_model\n",
        "import arch\n",
        "from statsmodels.stats.diagnostic import het_breuschpagan\n",
        "from statsmodels.stats.stattools import durbin_watson\n",
        "from statsmodels.stats.outliers_influence import variance_inflation_factor\n",
        "from statsmodels.stats.diagnostic import het_arch, acorr_lm\n",
        "from scipy.stats import jarque_bera\n",
        "import seaborn as sns\n",
        "## from pmdarima.arima import auto_arima\n"
      ],
      "metadata": {
        "id": "bQxfcTJnDAds"
      },
      "execution_count": null,
      "outputs": []
    },
    {
      "cell_type": "code",
      "source": [
        "pip install arch\n",
        "# pip install pmdarima"
      ],
      "metadata": {
        "id": "fFIoyt6-hPns"
      },
      "execution_count": null,
      "outputs": []
    },
    {
      "cell_type": "code",
      "source": [
        "# Upload the Excel file into a Pandas dataframe\n",
        "df = pd.read_excel('dataset2.xlsx')"
      ],
      "metadata": {
        "id": "1skTCEX5HhTZ"
      },
      "execution_count": 31,
      "outputs": []
    },
    {
      "cell_type": "code",
      "source": [
        "# adjustion\n",
        "df['date'] = pd.to_datetime(df['date']) # date definition"
      ],
      "metadata": {
        "id": "36-TJuKhHOyL"
      },
      "execution_count": 32,
      "outputs": []
    },
    {
      "cell_type": "code",
      "source": [
        "# Print the first few rows of the dataframe\n",
        "# print(df.head())  # five row display\n",
        "df.columns  # column index\n",
        "df.info()\n",
        "# df.shape  # matrix size"
      ],
      "metadata": {
        "id": "oF1DycSaDM-H"
      },
      "execution_count": null,
      "outputs": []
    },
    {
      "cell_type": "code",
      "source": [
        "# SImple OLS\n",
        "\n",
        "X = df[['mee','cha', 'mper']]\n",
        "\n",
        "# Define a list of dependent variables\n",
        "dependent_vars = ['absc_call', 'absc_cd', 'absc_b_3m', 'absc_b_1y', 'absc_b_3y', 'absc_b_5y', 'absc_b_10y']\n",
        "\n",
        "# Create an empty list to store the results of each OLS regression\n",
        "results = []\n",
        "\n",
        "# Loop through the dependent variables and fit the OLS model with each variable\n",
        "for var in dependent_vars:\n",
        "    y = df[var]\n",
        "    X = sm.add_constant(X)\n",
        "    model =  sm.OLS(y, X).fit(cov_type='HC3')   \n",
        "    results.append(model)\n",
        "\n",
        "    # Print the results of each OLS regression\n",
        "    print(f\"Model {len(results)}: {var} as dependent variable\\n{model.summary()}\")\n",
        "\n",
        "# Plot the residual graph for the current model\n",
        "    plt.plot(model.resid)\n",
        "    plt.axhline(y=0, color='red', linestyle='--')\n",
        "    plt.title(f\"Residual plot for {var}\")\n",
        "    plt.xlabel(\"Observation\")\n",
        "    plt.ylabel(\"Residual\")\n",
        "    plt.show()\n",
        "\n",
        "# 1. 종속변수와 독립변수간 선형관계 - 당연히 만족\n",
        "# 2. 독립변수와 오차항간 상관관계가 없을 것 - 독립변수 설정 잘하면 문제 없음\n",
        "# 3. 오차항의 기대값은 0 - 랜덤웍\n",
        "# 4. 오차항은 정규분포 - 모집단 많으면 해결\n",
        "\n",
        "# 5. 오차항의 분산이 모든 관찰치에서 일정한 상수일 것, 아닐 경우 이분산성(Heteroskedasticity) 발생 \n",
        "## 무조건부 이분산성은 독립변수 관찰값과 상관없는 이분산, 조건부(Conditional Variance) 이분산은 독립변수 관찰값과 상관있는 이분산, 조건부 이분산은 GARCH 사용\n",
        "## Breusch-Pagan Test로 검정\n",
        "## H0 = 이분산성 비존재, P value < 0.05시 기각가능해서 이분산 존재\n",
        "## HAC (Newey-West Standard error, HAC Heteroskedasticity and Autocorrelation Consistent) standard errors로 수정가능, 이 경우 robust standard error\n",
        "\n",
        "    # Breusch-Pagan test for heteroscedasticity\n",
        "    bp_test = het_breuschpagan(model.resid, X)\n",
        "    print(f\"Breusch-Pagan test statistic: {bp_test[0]:.3f}\")\n",
        "    print(f\"Breusch-Pagan p-value: {bp_test[1]:.3f}\")\n",
        "    if bp_test[1] < 0.05:\n",
        "        print(\"Warning: The residuals exhibit heteroscedasticity.\")\n",
        "\n",
        "# 6. 오차항간 시차상관관계가 없을 것, 아닐 경우 계열상관성(Autoregression) 발생\n",
        "## HAC (Newey-West Standard error, HAC Heteroskedasticity and Autocorrelation Consistent) standard errors로 수정가능, 이 경우 robust standard error\n",
        "## Calculate Durbin-Watson statistic\n",
        "## Durbin-Watson statistic for autocorrelation\n",
        "    dw = durbin_watson(model.resid)\n",
        "    print(f\"Durbin-Watson statistic: {dw:.3f}\")\n",
        "## check for autocorrelation\n",
        "\n",
        "    if dw < 1.5 or dw > 2.5:\n",
        "        print(\"Warning: The residuals exhibit autocorrelation.\")    \n",
        "\n",
        "\n",
        " # Jarque-Bera test for normality of residuals\n",
        "    jb_test = jarque_bera(model.resid)\n",
        "    test_statistic = jb_test[0]\n",
        "    p_value = jb_test[1]\n",
        "    if p_value < 0.05:\n",
        "        print(\"Warning: The residuals are not normally distributed (p-value = {:.4f})\".format(p_value))\n",
        "    else:\n",
        "        print(\"The residuals are normally distributed (p-value = {:.4f})\".format(p_value))\n",
        "\n",
        "    # ADF test for stationarity of residuals\n",
        "    residuals = model.resid\n",
        "    adf_test = sm.tsa.stattools.adfuller(residuals)\n",
        "    test_statistic = adf_test[0]\n",
        "    p_value = adf_test[1]\n",
        "    if p_value < 0.05:\n",
        "        print(\"Warning: The residuals have a unit root (p-value = {:.4f})\".format(p_value))\n",
        "    else:\n",
        "        print(\"The residuals do not have a unit root (p-value = {:.4f})\".format(p_value))        "
      ],
      "metadata": {
        "id": "RHg_oDgsgeYl"
      },
      "execution_count": null,
      "outputs": []
    },
    {
      "cell_type": "code",
      "source": [
        "# 7. 독립변수간 상관관계가 없을 것, 아닐 경우 다중공선성(Multicollinearity) 발생\n",
        "## calculate the VIF for each independent variable\n",
        "vif = pd.DataFrame()\n",
        "independent_vars=['mee2','cha','mper']   # only pass the column names\n",
        "vif[\"variables\"] = independent_vars\n",
        "vif[\"VIF\"] = [variance_inflation_factor(df[independent_vars].values, i) for i in range(len(independent_vars))]\n",
        "\n",
        "### check for high VIFs (typically a VIF greater than 5 or 10 is considered high)\n",
        "high_vif = vif[vif['VIF'] > 5]              \n",
        "\n",
        "# print the variables with high VIFs\n",
        "if len(high_vif) > 0:\n",
        "    print(\"Warning: The following variables have high VIFs:\")\n",
        "    print(high_vif)\n",
        "\n",
        "    # if there are high VIFs, drop one of the variables with the highest VIF\n",
        "    var_to_drop = high_vif.sort_values('VIF', ascending=False)['variables'].iloc[0]\n",
        "    df.drop(var_to_drop, axis=1, inplace=True)\n",
        "    independent_vars.remove(var_to_drop)\n",
        "else:\n",
        "    print(\"No variable has a high VIF.\")"
      ],
      "metadata": {
        "id": "yAkByoqkDMYX"
      },
      "execution_count": null,
      "outputs": []
    },
    {
      "cell_type": "code",
      "source": [
        "# 금융데이터처럼 변동성이 시간에 따라 변화(clustering) = 시계열 데이터의 조건부 분산이 과거 시점의 오차항과 자기상관\n",
        "# 시변하는 조건부 분산을 GARCH로 예측\n",
        "## 실제 value와 fit value로 arch가 잘 맞는지 보고\n",
        "## redisual이 정규분포하는지 보고\n",
        "## conditional variance가 시변하는지 봄\n",
        "### 이후 conditional variance그래프를 그리고 주요 뉴스 전후로 어떻게 바뀌는지 확인\n",
        "\n",
        "# 참고\n",
        "## AR(1)은 t기의 오차항이 t-1기의 오차항과 관련\n",
        "## ARCH는 t기의 오차항의 분산이 t-1기의 오차항 분산과 관련\n",
        "### 오차항의 분산이 전기 오차항의 제곱에 관련 있는 경우를 autoregressive conditional heteroscedasticity(ARCH)\n",
        "### 오차항의 분산이 여러 기의 오차항 제곱과 관련 있는 경우 generalized ARCH(GARCH)\n",
        "### 금융모형 다수 등장"
      ],
      "metadata": {
        "id": "WOAEq96IK0vz"
      },
      "execution_count": null,
      "outputs": []
    },
    {
      "cell_type": "markdown",
      "source": [
        "In GARCH (Generalized Autoregressive Conditional Heteroscedasticity) models, the parameters (p,q) represent the orders of the autoregressive and moving average terms, respectively, that are used to model the conditional variance of a time series.\n",
        "\n",
        "The \"p\" parameter specifies the order of the autoregressive term, which models the dependence of the current variance on the past variances. The \"q\" parameter specifies the order of the moving average term, which models the dependence of the current variance on the past squared error terms.\n",
        "\n",
        "Together, the (p,q) parameters determine the complexity of the GARCH model and how well it can capture the volatility patterns in the data. In practice, these parameters are usually chosen through a process of model selection, such as using information criteria like the Akaike Information Criterion (AIC) or the Bayesian Information Criterion (BIC), or through cross-validation techniques.\n",
        "\n",
        "delta(y_t) = beta_0 + beta_1*y_(t-1)(=AR1)+e_t(=error term) ~ e_t=beta_2(square(hat^2_t))   ~ N(0, hat_t)\n",
        "hat^2_t = Omega + sigma(alpha*h_(t-p)(=AR term, p)) + (Beta*e_(t-q))(MA term, q)\n",
        "\n",
        "AR(1) 과정에서 오차항의 분산이 이분산성(시변성), 클러스터링 분산을 보일 경우\n",
        "오차항의 시변하는 분산 hat^2을 ARIMA 과정을 통해 별도로 추정\n",
        "이 때 Omega는 시변성이 없었을 경우 나타날 Constant mean, alpha는 AR Term의 계수\n",
        "Beta는 MA Term의 계수로 과거 에러텀 제곱의 영향"
      ],
      "metadata": {
        "id": "ow0LSz-aWqcE"
      }
    },
    {
      "cell_type": "code",
      "source": [
        "# Define ranges of p and q to search over\n",
        "p_range = range(1, 3)\n",
        "q_range = range(1, 3)\n",
        "\n",
        "# Initialize the best model and criterion values\n",
        "best_aic = np.inf\n",
        "best_bic = np.inf\n",
        "best_p = 0\n",
        "best_q = 0\n",
        "\n",
        "# Loop through all combinations of p and q values\n",
        "for p in p_range:\n",
        "    for q in q_range:\n",
        "        # Fit a GARCH model for each combination of p and q\n",
        "        model = arch_model(df['b_3y_l'], vol='GARCH', p=p, q=q, mean='constant', dist='Normal')\n",
        "        result = model.fit(disp='off')\n",
        "\n",
        "        # Calculate the AIC and BIC for each model\n",
        "        aic = result.aic\n",
        "        bic = result.bic\n",
        "\n",
        "        # Check if the current model has a lower AIC or BIC than the previous best model\n",
        "        if aic < best_aic:\n",
        "            best_aic = aic\n",
        "            best_p = p\n",
        "            best_q = q\n",
        "\n",
        "        if bic < best_bic:\n",
        "            best_bic = bic\n",
        "            best_p = p\n",
        "            best_q = q\n",
        "\n",
        "# Print the optimal (p, q) values and criterion values\n",
        "print(\"Optimal (p, q) values based on AIC: ({}, {})\".format(best_p, best_q))\n",
        "print(\"AIC value for optimal model: {}\".format(best_aic))\n",
        "\n",
        "print(\"Optimal (p, q) values based on BIC: ({}, {})\".format(best_p, best_q))\n",
        "print(\"BIC value for optimal model: {}\".format(best_bic))"
      ],
      "metadata": {
        "id": "PdlSIKVwpsMU"
      },
      "execution_count": null,
      "outputs": []
    },
    {
      "cell_type": "code",
      "source": [
        "# Fit the GARCH(p,q) model\n",
        "\n",
        "# Define the independent variables\n",
        "y = df['b_3y_l']\n",
        "\n",
        "# Fit the GARCH(1,1) model\n",
        "am = arch_model(y, mean=\"AR\", vol=\"GARCH\", p=1, q=1, dist='Normal')     ## Clear Trend가 있을 경우 mean = AR, 아닐 경우 Conditional mean이 Constant하다고 하는 것이 보통\n",
        "results = am.fit()\n",
        "\n",
        "# Print model summary\n",
        "print(results.summary())\n",
        "\n",
        "## log-likelihood value = -6476.46 = fit well\n",
        "## coefficients of vol is fit well\n",
        "### omega coefficient = the constant component of the variance = 0.0253 > i.e., long-run average의 존재\n",
        "### alpha1 = conditional variance lagged one period > 0.1 > short past squard residuals affect currentvolitaility, AR(1) term\n",
        "### beta1 = conditional variance itself > 0.8000 > long past squared residuals affect current volitaility, MA(1) term\n",
        "## beta1 < 1 and alpha+beta < 1 (1,1)\n",
        "## i.e., the tendency for periods of high volatility to follow periods of high volatility and for periods of low volatility to follow periods of low volatility."
      ],
      "metadata": {
        "id": "u7q0qptpLPy8"
      },
      "execution_count": 33,
      "outputs": []
    },
    {
      "cell_type": "code",
      "source": [
        "# Plotting the actual and predicted values of the dependent variable:\n",
        "## means how well the model fits the actual data. closely = fit\n",
        "predicted = results.conditional_volatility\n",
        "actual = np.sqrt(results.resid**2)\n",
        "\n",
        "plt.plot(actual, label='Actual')\n",
        "plt.plot(predicted, label='Predicted')\n",
        "plt.legend()\n",
        "plt.show()\n",
        "\n",
        "# Plotting the standardized residuals:\n",
        "## standardized residuals, normally distributed around zero = fit\n",
        "\n",
        "from statsmodels.graphics.tsaplots import plot_acf\n",
        "\n",
        "std_resid = results.resid / results.conditional_volatility\n",
        "# (obs - actu / con var) = like z-score.\n",
        "# rule of thumb = between +-2 = ok\n",
        "\n",
        "plt.plot(std_resid)\n",
        "plt.axhline(y=0, color='red', linestyle='--')\n",
        "plt.show()\n",
        "\n",
        "# Plotting the volatility of the dependent variable:\n",
        "## volatility of the dependent variable changes over time. \n",
        "## the volatility is constant = not fit\n",
        "plt.plot(results.conditional_volatility)\n",
        "plt.show()"
      ],
      "metadata": {
        "id": "LlRfbDSYBHzx",
        "colab": {
          "base_uri": "https://localhost:8080/",
          "height": 761
        },
        "outputId": "4cf330a3-9556-4634-f24f-f8ba37c2d3f7"
      },
      "execution_count": 7,
      "outputs": [
        {
          "output_type": "display_data",
          "data": {
            "text/plain": [
              "<Figure size 432x288 with 1 Axes>"
            ],
            "image/png": "[encoded data removed]"
          },
          "metadata": {
            "needs_background": "light"
          }
        },
        {
          "output_type": "display_data",
          "data": {
            "text/plain": [
              "<Figure size 432x288 with 1 Axes>"
            ],
            "image/png": "[encoded data removed]"
          },
          "metadata": {
            "needs_background": "light"
          }
        },
        {
          "output_type": "display_data",
          "data": {
            "text/plain": [
              "<Figure size 432x288 with 1 Axes>"
            ],
            "image/png": "[encoded data removed]"
          },
          "metadata": {
            "needs_background": "light"
          }
        }
      ]
    },
    {
      "cell_type": "code",
      "source": [
        "import seaborn as sns\n",
        "\n",
        "\n",
        "# conditional_volatility = results.conditional_volatility\n",
        "# fx = sns.boxplot(x='cha_change', y=conditional_volatility, data=df, palette='Set2',showfliers=False)\n",
        "# plt.ylim([0, 0.1])\n",
        "# fx.set_xlabel(\"Policy Rate Change\")\n",
        "# fx.set_ylabel(\"Conditional Variance\")\n",
        "\n",
        "fig, fx = plt.subplots(figsize=(2.5, 4))\n",
        "\n",
        "# df_filtered = df[df[\"mper_change\"] != \"all range\"]\n",
        "# fx = sns.boxplot(x='mper_change', y=conditional_volatility, data=df_filtered, palette='Set2',showfliers=False)\n",
        "# plt.ylim([0, 0.1])\n",
        "# fx.set_xlabel(\"MPR Publication\")\n",
        "# fx.set_ylabel(\"\")\n",
        "# fx.set(yticklabels=[])\n",
        "\n",
        "# df_filtered = df[df[\"mee2_change\"] != \"all range\"]\n",
        "# fx = sns.boxplot(x='mee2_change', y=conditional_volatility, data=df_filtered, palette='Set2', showfliers=False)\n",
        "# plt.ylim([0, 0.1])\n",
        "# fx.set_xlabel(\"Minutes w/o rate change\")\n",
        "# fx.set_ylabel(\"\")\n",
        "# fx.set(yticklabels=[])\n",
        "\n",
        "\n",
        "df_filtered = df[df[\"spe_change\"] != \"all range\"]\n",
        "fx = sns.boxplot(x='spe_change', y=conditional_volatility, data=df_filtered, palette='Set2', showfliers=False)\n",
        "plt.ylim([0, 0.1])\n",
        "fx.set_xlabel(\"Governer's Speech\")\n",
        "fx.set_ylabel(\"\")\n",
        "fx.set(yticklabels=[])\n"
      ],
      "metadata": {
        "colab": {
          "base_uri": "https://localhost:8080/",
          "height": 395
        },
        "id": "-xXcCE-lNpEe",
        "outputId": "4859e001-68b4-4ef1-f110-e93aea32d3d9"
      },
      "execution_count": 64,
      "outputs": [
        {
          "output_type": "execute_result",
          "data": {
            "text/plain": [
              "[[Text(0, 0.0, ''),\n",
              "  Text(0, 0.02, ''),\n",
              "  Text(0, 0.04, ''),\n",
              "  Text(0, 0.06, ''),\n",
              "  Text(0, 0.08, ''),\n",
              "  Text(0, 0.1, '')]]"
            ]
          },
          "metadata": {},
          "execution_count": 64
        },
        {
          "output_type": "display_data",
          "data": {
            "text/plain": [
              "<Figure size 180x288 with 1 Axes>"
            ],
            "image/png": "[encoded data removed]"
          },
          "metadata": {}
        }
      ]
    },
    {
      "cell_type": "code",
      "source": [
        "# Perform tests for heteroskedasticity and autocorrelation\n",
        "lb_test = acorr_lm(results.resid)     # for autocorrelation\n",
        "arch_test = het_arch(results.resid)   # for heteroscedasticity\n",
        "\n",
        "\n",
        "# Check for heteroskedasticity and print a warning if detected\n",
        "print(\"ARCH-LM test statistic:\", arch_test[0])\n",
        "print(\"ARCH-LM test p-value:\", arch_test[1])\n",
        "\n",
        "if arch_test[1] < 0.05:\n",
        "    print(\"\\nWarning: Heteroskedasticity detected according to the ARCH-LM test.\")\n",
        "\n",
        "# Check for autocorrelation and print a warning if detected\n",
        "\n",
        "print(\"Lagrange Multiplier test statistic:\", lb_test[0])\n",
        "print(\"Lagrange Multiplier test p-value:\", lb_test[1])\n",
        "\n",
        "if lb_test[1] < 0.05:\n",
        "    print(\"\\nWarning: Autocorrelation detected according to the Lagrange Multiplier test.\")    \n",
        "\n",
        "# Check if the model is ARCH-effective using the p-value of the LM test\n",
        "if lb_test[1] < 0.05:\n",
        "    print(\"\\nThe model is not ARCH-effective according to the LM test.\")\n",
        "else:\n",
        "    print(\"\\nThe model is ARCH-effective according to the LM test.\")"
      ],
      "metadata": {
        "id": "3fV4XiqYBNKZ"
      },
      "execution_count": null,
      "outputs": []
    },
    {
      "cell_type": "code",
      "source": [
        "# Assuming your fitted GARCH model is stored in the variable 'results'\n",
        "# forecast_volatility = results.forecast(horizon=1)\n",
        "# conditional_volatility = np.sqrt(forecast_volatility.variance.iloc[-len(df):])\n",
        "\n",
        "\n",
        "# Get the conditional volatility values\n",
        "conditionalvolatility = pd.Series(results.conditional_volatility, index=df.index)\n",
        "actualvolatility = np.sqrt(results.resid**2)\n",
        "\n",
        "# Export the data to an Excel file\n",
        "conditionalvolatility.to_excel('conditional_volatility.xlsx', header=['Conditional Volatility'])\n",
        "actualvolatility.to_excel('acualvolatility.xlsx', header=['Actual Volatility'])"
      ],
      "metadata": {
        "id": "8pJzyKXUBMvI"
      },
      "execution_count": 9,
      "outputs": []
    },
    {
      "cell_type": "markdown",
      "source": [
        "The main difference between EGARCH (Exponential GARCH) and GARCH (Generalized Autoregressive Conditional Heteroscedasticity) models is the way they model the conditional volatility of a time series.\n",
        "\n",
        "GARCH models assume that the conditional volatility is a function of past squared error terms and past conditional variances. EGARCH models, on the other hand, allow the conditional variance to depend on both past squared error terms and past absolute error terms. This means that EGARCH models can capture the asymmetric effects of positive and negative shocks on volatility.\n",
        "\n",
        "In other words, the EGARCH model allows for the possibility that an unexpected shock that leads to a large negative return has a different impact on volatility than an unexpected shock that leads to a large positive return. This is important in financial applications, where volatility tends to increase more after large negative returns (i.e., \"leverage effect\").\n",
        "\n",
        "Overall, the EGARCH model is a more flexible model that can capture the asymmetric effects of shocks on volatility, while the GARCH model is a more simple model that assumes symmetric effects."
      ],
      "metadata": {
        "id": "Fs-Gcxia6t8F"
      }
    },
    {
      "cell_type": "code",
      "source": [
        "# # Fit the EGARCH(p,q) model\n",
        "\n",
        "# # Define the independent variables\n",
        "# y = df['b_3y_l']\n",
        "\n",
        "# # Fit the EGARCH(1,1) model\n",
        "# am = arch_model(y, mean=\"AR\", vol=\"EGARCH\", p=1, q=1, dist='Normal')     ## Clear Trend가 있을 경우 mean = AR, 아닐 경우 Conditional mean이 Constant하다고 하는 것이 보통\n",
        "# results = am.fit()\n",
        "\n",
        "# # Print model summary\n",
        "# print(results.summary())"
      ],
      "metadata": {
        "id": "532BVoV76zJs"
      },
      "execution_count": null,
      "outputs": []
    }
  ]
}